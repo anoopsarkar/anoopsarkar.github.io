{
 "metadata": {
  "name": ""
 },
 "nbformat": 3,
 "nbformat_minor": 0,
 "worksheets": [
  {
   "cells": [
    {
     "cell_type": "code",
     "collapsed": false,
     "input": [
      "%matplotlib inline"
     ],
     "language": "python",
     "metadata": {},
     "outputs": [],
     "prompt_number": 8
    },
    {
     "cell_type": "code",
     "collapsed": false,
     "input": [
      "from __future__ import division\n",
      "import numpy\n",
      "import matplotlib.pyplot as plt\n",
      "\n",
      "#Initial idea from David Warde-Farley on the SciPy Cookbook\n",
      "import numpy as np\n",
      "import matplotlib.pyplot as plt\n",
      "from matplotlib.patches import Rectangle\n",
      "from matplotlib.ticker import NullLocator\n",
      "\n",
      "def hinton(W, maxWeight=None, ax=None):\n",
      "    \"\"\"\n",
      "    Draws a Hinton diagram for visualizing a weight matrix.\n",
      "    \"\"\"\n",
      "    if not ax:\n",
      "        fig = plt.figure()\n",
      "        ax = fig.add_subplot(1, 1, 1)\n",
      "\n",
      "    if not maxWeight:\n",
      "        maxWeight = 2**np.ceil(np.log(np.abs(W).max())/np.log(2))\n",
      "\n",
      "    ax.patch.set_facecolor('gray')\n",
      "    ax.set_aspect('equal', 'box')\n",
      "    ax.xaxis.set_major_locator(NullLocator())\n",
      "    ax.yaxis.set_major_locator(NullLocator())\n",
      "\n",
      "    for (x,y),w in np.ndenumerate(W):\n",
      "        if w > 0: color = 'white'\n",
      "        else:     color = 'black'\n",
      "        size = np.sqrt(np.abs(w))\n",
      "        rect = Rectangle([x - size / 2, y - size / 2], size, size,\n",
      "            facecolor=color, edgecolor=color)\n",
      "        ax.add_patch(rect)\n",
      "    ax.autoscale_view()\n",
      "\n",
      "    # Reverse the yaxis limits\n",
      "    ax.set_ylim(*ax.get_ylim()[::-1])\n",
      "\n",
      "def distance(target, source, insertcost, deletecost, replacecost):\n",
      "    n = len(target)+1\n",
      "    m = len(source)+1\n",
      "    # set up dist and initialize values\n",
      "    dist = [ [0 for j in range(m)] for i in range(n) ]\n",
      "    for i in range(1,n):\n",
      "        dist[i][0] = dist[i-1][0] + insertcost\n",
      "    for j in range(1,m):\n",
      "        dist[0][j] = dist[0][j-1] + deletecost\n",
      "    # align source and target strings\n",
      "    for j in range(1,m):\n",
      "        for i in range(1,n):\n",
      "            inscost = insertcost + dist[i-1][j]\n",
      "            delcost = deletecost + dist[i][j-1]\n",
      "            if (source[j-1] == target[i-1]): add = 0\n",
      "            else: add = replacecost\n",
      "            substcost = add + dist[i-1][j-1]\n",
      "            dist[i][j] = min(inscost, delcost, substcost)\n",
      "\n",
      "    # save a hinton plot of the distance matrix\n",
      "    normdist = [ [ (dist[i][j]/dist[n-1][m-1])-0.5 for j in range(m) ] for i in range(n) ]\n",
      "    hinton(numpy.array(normdist))\n",
      "    plt.title(\"Distance matrix\")\n",
      "    plt.show()\n",
      "    #plt.savefig('distance_hinton.png', format='png')\n",
      "\n",
      "    # return min edit distance\n",
      "    return dist[n-1][m-1]\n",
      "\n",
      "def view_distance(a, b):\n",
      "    distance(a, b, 1, 1, 2)\n",
      "    "
     ],
     "language": "python",
     "metadata": {},
     "outputs": [],
     "prompt_number": 9
    },
    {
     "cell_type": "code",
     "collapsed": false,
     "input": [
      "view_distance(\"recognize speech\", \"wreck a nice beach\")"
     ],
     "language": "python",
     "metadata": {},
     "outputs": [
      {
       "metadata": {},
       "output_type": "display_data",
       "png": "[encoded data removed]",
       "text": [
        "<matplotlib.figure.Figure at 0x103975250>"
       ]
      }
     ],
     "prompt_number": 10
    },
    {
     "cell_type": "code",
     "collapsed": false,
     "input": [],
     "language": "python",
     "metadata": {},
     "outputs": []
    }
   ],
   "metadata": {}
  }
 ]
}