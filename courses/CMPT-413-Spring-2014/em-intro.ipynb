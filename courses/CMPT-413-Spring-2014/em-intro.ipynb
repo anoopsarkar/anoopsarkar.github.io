{
 "metadata": {
  "name": ""
 },
 "nbformat": 3,
 "nbformat_minor": 0,
 "worksheets": [
  {
   "cells": [
    {
     "cell_type": "heading",
     "level": 1,
     "metadata": {},
     "source": [
      "Maximum Likelihood and the Expectation-Maximization (EM) algorithm"
     ]
    },
    {
     "cell_type": "heading",
     "level": 2,
     "metadata": {},
     "source": [
      "Notation"
     ]
    },
    {
     "cell_type": "markdown",
     "metadata": {},
     "source": [
      "* Data: $x_1, x_2, \\ldots, x_n$ where $x_i \\in {\\cal X}$\n",
      "* Parameter vector: $\\theta$\n",
      "* Parameter space: $\\Omega$\n",
      "* Distribution: $\\Pr(x | \\theta)$ for any $\\theta \\in \\Omega$"
     ]
    },
    {
     "cell_type": "heading",
     "level": 2,
     "metadata": {},
     "source": [
      "Maximum Likelihood Estimation"
     ]
    },
    {
     "cell_type": "markdown",
     "metadata": {},
     "source": [
      "Assume $x_1, x_2, \\ldots, x_n$ are drawn iid from distribution $\\Pr(x|\\theta^\\ast)$ for some $\\theta^\\ast \\in \\Omega$\n",
      "\n",
      "$$\\textrm{Likelihood}(\\theta) = \\Pr(x_1, \\ldots, x_n | \\theta) = \\prod_{i=1}^{n} \\Pr(x_i | \\theta) $$\n",
      "\n",
      "Log likelihood is defined as \n",
      "\n",
      "$$ L(\\theta) = \\log \\prod_{i=1}^n \\Pr(x_i | \\theta) = \\sum_i \\log \\Pr(x_i | \\theta) $$\n"
     ]
    },
    {
     "cell_type": "markdown",
     "metadata": {},
     "source": [
      "Example: One biased coin\n",
      "------------------------\n",
      "\n",
      "* $ {\\cal X} = \\{ H, T \\} $\n",
      "* Data set: $x_1, \\ldots, x_n$ e.g. $x_1=H, x_2=H, x_3=H, x_4=T, \\ldots, x_n=T$\n",
      "* Parameter $\\theta$ is a single parameter which is $\\Pr(H)$, the probability of heads for the coin that generated the above sample data.\n",
      "$$ P(x|\\theta) = \\left\\{ \\begin{array}{ll} \\theta & \\textrm{ if $x=H$ } \\\\ 1-\\theta & \\textrm{ if $x=T$ } \\end{array} \\right. $$\n",
      "* Parameter space $\\Omega = [0,1]$\n",
      "\n",
      "$$ \\theta_{\\textrm{ML}} = \\arg\\max_{\\theta \\in \\Omega} L(\\theta) $$\n",
      "\n",
      "We define $f(H)$ as the number of heads in our data set. \n",
      "$$f(H) = \\sum_i \\mathbb{1}(x_i = H)$$\n",
      "where $\\mathbb{1}(c)$ is equal to $1$ if $c$ is true.\n",
      "\n",
      "We can compute the log likelihood using $f(H)$, e.g. for data set $x_1=H, x_2=H, x_3=T, x_4=H, x_5=T$ the probability is $\\theta \\cdot \\theta \\cdot (1-\\theta) \\cdot \\theta \\cdot (1-\\theta)$ which can be written as $\\theta^3 \\cdot (1-\\theta)^2$ where $f(H)=3$ and $n-f(H)=2$.\n",
      "\n",
      "\\begin{eqnarray*}\n",
      "L(\\theta) &=& \\log \\prod_i \\Pr(x_i | \\theta) \\\\\n",
      "&=& \\log \\left( \\theta^{f(H)} \\cdot (1-\\theta)^{n-f(H)} \\right)\\\\\n",
      "&=& f(H) \\log\\theta + (n-f(H)) \\log(1-\\theta)\n",
      "\\end{eqnarray*}"
     ]
    },
    {
     "cell_type": "heading",
     "level": 3,
     "metadata": {},
     "source": [
      "Objective"
     ]
    },
    {
     "cell_type": "markdown",
     "metadata": {},
     "source": [
      "Find $\\theta_{ML} = \\arg\\max_{\\theta \\in \\Omega} L(\\theta)$.\n",
      "\n",
      "$L(\\theta)$ reaches the maximum value when the gradient does not change.\n",
      "\n",
      "This implies that we need to find the $\\theta$ where the derivative is equal to zero:\n",
      "$$ \\frac{d L(\\theta)}{d\\theta} = 0 $$\n",
      "\n",
      "So find $\\theta$ where:\n",
      "$$\\frac{f(H)}{\\theta} - \\frac{n-f(H)}{1-\\theta} = 0$$\n",
      "\n",
      "This gives us:\n",
      "$$ \\theta = \\frac{f(H)}{n}$$"
     ]
    },
    {
     "cell_type": "code",
     "collapsed": false,
     "input": [
      "from IPython.core.display import HTML\n",
      "\n",
      "\n",
      "def css_styling():\n",
      "    styles = open(\"styles/custom.css\", \"r\").read()\n",
      "    return HTML(styles)\n",
      "css_styling()"
     ],
     "language": "python",
     "metadata": {},
     "outputs": [
      {
       "html": [
        "<style>\n",
        "    @font-face {\n",
        "        font-family: \"Computer Modern\";\n",
        "        src: url('http://9dbb143991406a7c655e-aa5fcb0a5a4ec34cff238a2d56ca4144.r56.cf5.rackcdn.com/cmunss.otf');\n",
        "    }\n",
        "    @font-face {\n",
        "        font-family: \"Computer Modern\";\n",
        "        font-weight: bold;\n",
        "        src: url('http://9dbb143991406a7c655e-aa5fcb0a5a4ec34cff238a2d56ca4144.r56.cf5.rackcdn.com/cmunsx.otf');\n",
        "    }\n",
        "    @font-face {\n",
        "        font-family: \"Computer Modern\";\n",
        "        font-style: oblique;\n",
        "        src: url('http://9dbb143991406a7c655e-aa5fcb0a5a4ec34cff238a2d56ca4144.r56.cf5.rackcdn.com/cmunsi.otf');\n",
        "    }\n",
        "    @font-face {\n",
        "        font-family: \"Computer Modern\";\n",
        "        font-weight: bold;\n",
        "        font-style: oblique;\n",
        "        src: url('http://9dbb143991406a7c655e-aa5fcb0a5a4ec34cff238a2d56ca4144.r56.cf5.rackcdn.com/cmunso.otf');\n",
        "    }\n",
        "    div.cell{\n",
        "        width:800px;\n",
        "        margin-left:16% !important;\n",
        "        margin-right:auto;\n",
        "    }\n",
        "    h1 {\n",
        "        font-family: Helvetica, serif;\n",
        "    }\n",
        "    h4{\n",
        "        margin-top:12px;\n",
        "        margin-bottom: 3px;\n",
        "       }\n",
        "    div.text_cell_render{\n",
        "        font-family: Computer Modern, \"Helvetica Neue\", Arial, Helvetica, Geneva, sans-serif;\n",
        "        line-height: 145%;\n",
        "        font-size: 130%;\n",
        "        width:800px;\n",
        "        margin-left:auto;\n",
        "        margin-right:auto;\n",
        "    }\n",
        "    .CodeMirror{\n",
        "            font-family: \"Source Code Pro\", source-code-pro,Consolas, monospace;\n",
        "    }\n",
        "    .prompt{\n",
        "        display: None;\n",
        "    }\n",
        "    .text_cell_render h5 {\n",
        "        font-weight: 300;\n",
        "        font-size: 22pt;\n",
        "        color: #4057A1;\n",
        "        font-style: italic;\n",
        "        margin-bottom: .5em;\n",
        "        margin-top: 0.5em;\n",
        "        display: block;\n",
        "    }\n",
        "    \n",
        "    .warning{\n",
        "        color: rgb( 240, 20, 20 )\n",
        "        }  \n",
        "</style>\n",
        "<script>\n",
        "    MathJax.Hub.Config({\n",
        "                        TeX: {\n",
        "                           extensions: [\"AMSmath.js\"]\n",
        "                           },\n",
        "                tex2jax: {\n",
        "                    inlineMath: [ ['$','$'], [\"\\\\(\",\"\\\\)\"] ],\n",
        "                    displayMath: [ ['$$','$$'], [\"\\\\[\",\"\\\\]\"] ]\n",
        "                },\n",
        "                displayAlign: 'center', // Change this to 'center' to center equations.\n",
        "                \"HTML-CSS\": {\n",
        "                    styles: {'.MathJax_Display': {\"margin\": 4}}\n",
        "                }\n",
        "        });\n",
        "</script>"
       ],
       "metadata": {},
       "output_type": "pyout",
       "prompt_number": 2,
       "text": [
        "<IPython.core.display.HTML at 0x105b3d590>"
       ]
      }
     ],
     "prompt_number": 2
    },
    {
     "cell_type": "code",
     "collapsed": false,
     "input": [],
     "language": "python",
     "metadata": {},
     "outputs": []
    }
   ],
   "metadata": {}
  }
 ]
}