{
 "metadata": {
  "name": ""
 },
 "nbformat": 3,
 "nbformat_minor": 0,
 "worksheets": [
  {
   "cells": [
    {
     "cell_type": "code",
     "collapsed": false,
     "input": [
      "from nltk.corpus import gutenberg\n",
      "from nltk.model import *\n",
      "from nltk.probability import LidstoneProbDist\n",
      "import pprint\n",
      "import sys\n",
      "\n",
      "class NullDevice():\n",
      "    def write(self, s):\n",
      "        pass\n",
      "\n",
      "use_chars = True\n",
      "\n",
      "#sys.stderr = NullDevice()\n",
      "estimator = lambda fdist, bins: LidstoneProbDist(fdist, 0.2)\n",
      "\n",
      "t = None\n",
      "if use_chars:\n",
      "    t = [ [ c for c in ' '.join(sent) ] for sent in gutenberg.sents('carroll-alice.txt') ]\n",
      "else:\n",
      "    t = [ x for x in gutenberg.sents('carroll-alice.txt') ]\n",
      "\n",
      "def ngram_gen(n, t, len=100):\n",
      "    print \"\\n%d-gram model\\n---------------\\n\" % (n)\n",
      "    m = NgramModel(n, t, True, True, estimator)\n",
      "    print m.entropy(\"if you cannot mean what you say then at least say what you mean\".split())\n",
      "    sep = '' if use_chars else ' '\n",
      "    genstring = sep.join(m.generate(len))\n",
      "    print genstring\n",
      "    return genstring\n",
      "\n",
      "pprint.pprint(map(lambda n: ngram_gen(n, t), range(1,10)))\n"
     ],
     "language": "python",
     "metadata": {},
     "outputs": [
      {
       "output_type": "stream",
       "stream": "stdout",
       "text": [
        "\n",
        "1-gram model\n",
        "---------------\n",
        "\n",
        "19.504704566"
       ]
      },
      {
       "output_type": "stream",
       "stream": "stdout",
       "text": [
        "\n",
        "h...................................................................................................\n",
        "\n",
        "2-gram model\n",
        "---------------\n",
        "\n",
        "6.70259859903"
       ]
      },
      {
       "output_type": "stream",
       "stream": "stdout",
       "text": [
        "\n",
        "' bbe , .' sulis s tindg t Leerist Al , A lliche , andgo ben tse ateris .' men hed ooninglee s ofu\n",
        "\n",
        "3-gram model\n",
        "---------------\n",
        "\n",
        "6.66930649918"
       ]
      },
      {
       "output_type": "stream",
       "stream": "stdout",
       "text": [
        "\n",
        "The ,' manage Quest all look !Heack , a laring dow and thearged and youse .' the perse th Hate H\n",
        "\n",
        "4-gram model\n",
        "---------------\n",
        "\n",
        "6.63993111696"
       ]
      },
      {
       "output_type": "stream",
       "stream": "stdout",
       "text": [
        "\n",
        "' Who arm onclude ords --''' ( What eare , she was the pop it it , ' The could hidespade , of \n",
        "\n",
        "5-gram model\n",
        "---------------\n",
        "\n",
        "6.6138196661"
       ]
      },
      {
       "output_type": "stream",
       "stream": "stdout",
       "text": [
        "\n",
        "' Only did them out at finish you tell , couldn ' t thing on what managed ; ' of the White dreamed t\n",
        "\n",
        "6-gram model\n",
        "---------------\n"
       ]
      },
      {
       "output_type": "stream",
       "stream": "stdout",
       "text": [
        "\n",
        "6.59045678901"
       ]
      },
      {
       "output_type": "stream",
       "stream": "stdout",
       "text": [
        "\n",
        "Once , she ought us bottle nervous or court , and the mouse , thump !' Alice :--' I quite \n",
        "\n",
        "7-gram model\n",
        "---------------\n"
       ]
      },
      {
       "output_type": "stream",
       "stream": "stdout",
       "text": [
        "\n",
        "6.56943019964"
       ]
      },
      {
       "output_type": "stream",
       "stream": "stdout",
       "text": [
        "\n",
        "' repeated , and the Hatter .' Idiot !' No , throw us , and tumbling about her subject o\n",
        "\n",
        "8-gram model\n",
        "---------------\n"
       ]
      },
      {
       "output_type": "stream",
       "stream": "stdout",
       "text": [
        "\n",
        "6.55040614258"
       ]
      },
      {
       "output_type": "stream",
       "stream": "stdout",
       "text": [
        "\n",
        "\" Up above her : she thought it over all she got up , and began looking anxiously over his shoes and\n",
        "\n",
        "9-gram model\n",
        "---------------\n"
       ]
      },
      {
       "output_type": "stream",
       "stream": "stdout",
       "text": [
        "\n",
        "6.53311154525"
       ]
      },
      {
       "output_type": "stream",
       "stream": "stdout",
       "text": [
        "\n",
        "'' IT DOES THE BOOTS AND SHOES .' Never !Pennyworth only of beautiful Soup !\n",
        "["
       ]
      },
      {
       "output_type": "stream",
       "stream": "stdout",
       "text": [
        "'h...................................................................................................',\n",
        " \"' bbe , .' sulis s tindg t Leerist Al , A lliche , andgo ben tse ateris .' men hed ooninglee s ofu\",\n",
        " \"The ,' manage Quest all look !Heack , a laring dow and thearged and youse .' the perse th Hate H\",\n",
        " \"' Who arm onclude ords --''' ( What eare , she was the pop it it , ' The could hidespade , of \",\n",
        " \"' Only did them out at finish you tell , couldn ' t thing on what managed ; ' of the White dreamed t\",\n",
        " \"Once , she ought us bottle nervous or court , and the mouse , thump !' Alice :--' I quite \",\n",
        " \"' repeated , and the Hatter .' Idiot !' No , throw us , and tumbling about her subject o\",\n",
        " '\" Up above her : she thought it over all she got up , and began looking anxiously over his shoes and',\n",
        " \"'' IT DOES THE BOOTS AND SHOES .' Never !Pennyworth only of beautiful Soup !\"]\n"
       ]
      }
     ],
     "prompt_number": 1
    },
    {
     "cell_type": "code",
     "collapsed": false,
     "input": [],
     "language": "python",
     "metadata": {},
     "outputs": []
    }
   ],
   "metadata": {}
  }
 ]
}