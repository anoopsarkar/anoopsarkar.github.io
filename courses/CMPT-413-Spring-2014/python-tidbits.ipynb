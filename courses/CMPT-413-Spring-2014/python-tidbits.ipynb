{
 "metadata": {
  "name": ""
 },
 "nbformat": 3,
 "nbformat_minor": 0,
 "worksheets": [
  {
   "cells": [
    {
     "cell_type": "markdown",
     "metadata": {},
     "source": [
      "# Python Tidbits for NLP\n",
      "## Anoop Sarkar"
     ]
    },
    {
     "cell_type": "markdown",
     "metadata": {},
     "source": [
      "This is an extremely concise introduction to Python for programmers already proficient in at least one other programming language. \n",
      "\n",
      "A slower and more thorough tutorial is the [Python Tutorial](http://docs.python.org/tut/tut.html) by Guido van Rossum. Read it at least upto Chapter 10.\n",
      "\n",
      "These code fragments are for Python version 2.7.x and not for Python version 3.x"
     ]
    },
    {
     "cell_type": "heading",
     "level": 2,
     "metadata": {},
     "source": [
      "Math in Python 2.7.x"
     ]
    },
    {
     "cell_type": "markdown",
     "metadata": {},
     "source": [
      "Always use the proper division."
     ]
    },
    {
     "cell_type": "code",
     "collapsed": false,
     "input": [
      "print 2/3"
     ],
     "language": "python",
     "metadata": {},
     "outputs": [
      {
       "output_type": "stream",
       "stream": "stdout",
       "text": [
        "0\n"
       ]
      }
     ],
     "prompt_number": 18
    },
    {
     "cell_type": "code",
     "collapsed": false,
     "input": [
      "from __future__ import division\n",
      "print 2/3"
     ],
     "language": "python",
     "metadata": {},
     "outputs": [
      {
       "output_type": "stream",
       "stream": "stdout",
       "text": [
        "0.666666666667\n"
       ]
      }
     ],
     "prompt_number": 19
    },
    {
     "cell_type": "heading",
     "level": 2,
     "metadata": {},
     "source": [
      "Be agnostic of the operating system"
     ]
    },
    {
     "cell_type": "markdown",
     "metadata": {},
     "source": [
      "Python code, especially for file system interaction, can be written so that it runs on many different operating systems. This makes your code more portable and easier to maintain as well."
     ]
    },
    {
     "cell_type": "code",
     "collapsed": false,
     "input": [
      "import os\n",
      "import sys\n",
      "if sys.platform == 'win32':\n",
      "    ROOT = os.path.splitdrive(os.path.abspath('.'))[0]\n",
      "elif sys.platform == 'linux2' or sys.platform == 'darwin':\n",
      "    ROOT = os.sep\n",
      "else:\n",
      "    raise ValueError(\"unknown operating system\")\n",
      "dictfile = os.path.join(ROOT, 'usr','share','dict','words')\n",
      "print dictfile"
     ],
     "language": "python",
     "metadata": {},
     "outputs": [
      {
       "output_type": "stream",
       "stream": "stdout",
       "text": [
        "/usr/share/dict/words\n"
       ]
      }
     ],
     "prompt_number": 24
    },
    {
     "cell_type": "heading",
     "level": 2,
     "metadata": {},
     "source": [
      "For loops"
     ]
    },
    {
     "cell_type": "markdown",
     "metadata": {},
     "source": [
      "Use built in functions to create ranges."
     ]
    },
    {
     "cell_type": "code",
     "collapsed": false,
     "input": [
      "for i in xrange(1,10,2):\n",
      "    print i"
     ],
     "language": "python",
     "metadata": {},
     "outputs": [
      {
       "output_type": "stream",
       "stream": "stdout",
       "text": [
        "1\n",
        "3\n",
        "5\n",
        "7\n",
        "9\n"
       ]
      }
     ],
     "prompt_number": 1
    },
    {
     "cell_type": "heading",
     "level": 2,
     "metadata": {},
     "source": [
      "Opening and closing file handles"
     ]
    },
    {
     "cell_type": "markdown",
     "metadata": {},
     "source": [
      "Always open a file using the `with` statement because it closes the file at the end of the statement (even if there is an exception during interaction with the file system). A for loop can be used to iterate through lines using the file handle."
     ]
    },
    {
     "cell_type": "code",
     "collapsed": false,
     "input": [
      "with open(dictfile, 'r') as fhandle:\n",
      "    for line in fhandle:\n",
      "        line = line.strip()\n",
      "        if len(line) > 23:\n",
      "            print line"
     ],
     "language": "python",
     "metadata": {},
     "outputs": [
      {
       "output_type": "stream",
       "stream": "stdout",
       "text": [
        "formaldehydesulphoxylate\n",
        "pathologicopsychological"
       ]
      },
      {
       "output_type": "stream",
       "stream": "stdout",
       "text": [
        "\n",
        "scientificophilosophical\n",
        "tetraiodophenolphthalein"
       ]
      },
      {
       "output_type": "stream",
       "stream": "stdout",
       "text": [
        "\n",
        "thyroparathyroidectomize\n"
       ]
      }
     ],
     "prompt_number": 25
    },
    {
     "cell_type": "heading",
     "level": 2,
     "metadata": {},
     "source": [
      "List comprehensions"
     ]
    },
    {
     "cell_type": "markdown",
     "metadata": {},
     "source": [
      "List comprehensions are very useful to replace a for-loop. Example below finds unique elements as a one line python program using the built-in set data structure."
     ]
    },
    {
     "cell_type": "code",
     "collapsed": false,
     "input": [
      "x = ['a', 'b', 'c', 'd', 'a', 'b', 'c']\n",
      "print [ i for i in set(x) ]"
     ],
     "language": "python",
     "metadata": {},
     "outputs": [
      {
       "output_type": "stream",
       "stream": "stdout",
       "text": [
        "['a', 'c', 'b', 'd']\n"
       ]
      }
     ],
     "prompt_number": 3
    },
    {
     "cell_type": "markdown",
     "metadata": {},
     "source": [
      "Also, you can use an 'if' statement in a list comprehension."
     ]
    },
    {
     "cell_type": "code",
     "collapsed": false,
     "input": [
      "print [ i for i in set(x) if i != 'a']"
     ],
     "language": "python",
     "metadata": {},
     "outputs": [
      {
       "output_type": "stream",
       "stream": "stdout",
       "text": [
        "['c', 'b', 'd']\n"
       ]
      }
     ],
     "prompt_number": 4
    },
    {
     "cell_type": "markdown",
     "metadata": {},
     "source": [
      "Using list comprehensions, the following Python code prints out the lowercased tokens of length greater than 15 from Sense and Sensibility (note that one of them occurs twice)."
     ]
    },
    {
     "cell_type": "code",
     "collapsed": false,
     "input": [
      "import nltk\n",
      "longwords = [ word.lower() for word in nltk.corpus.gutenberg.words('austen-sense.txt') if len(word) > 15]\n",
      "print longwords"
     ],
     "language": "python",
     "metadata": {},
     "outputs": [
      {
       "output_type": "stream",
       "stream": "stdout",
       "text": [
        "['incomprehensible', 'incomprehensible', 'disinterestedness', 'companionableness', 'disqualifications']\n"
       ]
      }
     ],
     "prompt_number": 5
    },
    {
     "cell_type": "heading",
     "level": 2,
     "metadata": {},
     "source": [
      "Enumerate"
     ]
    },
    {
     "cell_type": "markdown",
     "metadata": {},
     "source": [
      "enumerate is very useful when you want a counter variable for each element in a list."
     ]
    },
    {
     "cell_type": "code",
     "collapsed": false,
     "input": [
      "x = ['a', 'c', 'b', 'd']\n",
      "for (index,element) in enumerate(x): print index, element"
     ],
     "language": "python",
     "metadata": {},
     "outputs": [
      {
       "output_type": "stream",
       "stream": "stdout",
       "text": [
        "0 a\n",
        "1 c\n",
        "2 b\n",
        "3 d\n"
       ]
      }
     ],
     "prompt_number": 6
    },
    {
     "cell_type": "heading",
     "level": 2,
     "metadata": {},
     "source": [
      "Dictionary comprehensions"
     ]
    },
    {
     "cell_type": "markdown",
     "metadata": {},
     "source": [
      "Dictionary comprehensions are just like list comprehensions except they let you build a dictionary instead of a list. Say we want to build a dictionary where the dictionary keys are lowercase ASCII characters and the values are the probabilities for each character. In the following we just assign a random probability to each lowercase character."
     ]
    },
    {
     "cell_type": "code",
     "collapsed": false,
     "input": [
      "import string\n",
      "import numpy\n",
      "# set up a random probability distribution over lowercase ASCII characters\n",
      "counts = [ numpy.random.random() for c in string.ascii_lowercase ]\n",
      "total = sum(counts)\n",
      "# the following is a dictionary comprehension\n",
      "probs = { c: (counts[i] / total) for (i,c) in enumerate(string.ascii_lowercase) }\n",
      "print probs['e']\n",
      "print probs['z']"
     ],
     "language": "python",
     "metadata": {},
     "outputs": [
      {
       "output_type": "stream",
       "stream": "stdout",
       "text": [
        "0.0678825995995\n",
        "0.00777836037141\n"
       ]
      }
     ],
     "prompt_number": 14
    },
    {
     "cell_type": "heading",
     "level": 2,
     "metadata": {},
     "source": [
      "argmax"
     ]
    },
    {
     "cell_type": "markdown",
     "metadata": {},
     "source": [
      "Often we wish to compute the argmax using a probability distribution. The argmax function returns the element that has the highest probability. $$\\hat{x} = \\arg\\max_x P(x)$$"
     ]
    },
    {
     "cell_type": "code",
     "collapsed": false,
     "input": [
      "def P(c):\n",
      "    return probs[c]\n",
      "# the character with the highest probability is given by argmax_c P(c)\n",
      "argmax_char = max(string.ascii_lowercase, key=P)\n",
      "print argmax_char, P(argmax_char)"
     ],
     "language": "python",
     "metadata": {},
     "outputs": [
      {
       "output_type": "stream",
       "stream": "stdout",
       "text": [
        "d 0.0684709182033\n"
       ]
      }
     ],
     "prompt_number": 16
    },
    {
     "cell_type": "heading",
     "level": 2,
     "metadata": {},
     "source": [
      "Formatted Strings"
     ]
    },
    {
     "cell_type": "markdown",
     "metadata": {},
     "source": [
      "Formatted strings, where you want to insert a value into a string, where %s is a string value, %d is a decimal integer, %f is a floating point number."
     ]
    },
    {
     "cell_type": "code",
     "collapsed": false,
     "input": [
      "print \"%s = %d and %s = %f\" % (\"x\", 10, \"y\", 0.0003)"
     ],
     "language": "python",
     "metadata": {},
     "outputs": [
      {
       "output_type": "stream",
       "stream": "stdout",
       "text": [
        "x = 10 and y = 0.000300\n"
       ]
      }
     ],
     "prompt_number": 7
    },
    {
     "cell_type": "code",
     "collapsed": false,
     "input": [
      "print \"The %(foo)s is %(bar)i.\" % {'foo': 'answer', 'bar':42}"
     ],
     "language": "python",
     "metadata": {},
     "outputs": [
      {
       "output_type": "stream",
       "stream": "stdout",
       "text": [
        "The answer is 42.\n"
       ]
      }
     ],
     "prompt_number": 8
    },
    {
     "cell_type": "code",
     "collapsed": false,
     "input": [
      "print \"The {foo} is {bar}\".format(foo='answer', bar=42)"
     ],
     "language": "python",
     "metadata": {},
     "outputs": [
      {
       "output_type": "stream",
       "stream": "stdout",
       "text": [
        "The answer is 42\n"
       ]
      }
     ],
     "prompt_number": 9
    },
    {
     "cell_type": "heading",
     "level": 2,
     "metadata": {},
     "source": [
      "Tuples"
     ]
    },
    {
     "cell_type": "markdown",
     "metadata": {},
     "source": [
      "The builtin function 'tuple' can be used to create n-grams from a list of words."
     ]
    },
    {
     "cell_type": "code",
     "collapsed": false,
     "input": [
      "words = ['a', 'good', 'book', 'is', 'all', 'you', 'need', '.']\n",
      "print \"print unigrams aka 1-grams:\", \n",
      "print words\n",
      "\n",
      "print \"print bigrams aka 2-grams:\", \n",
      "print [ tuple(words[i:i+2]) for i in range(len(words)-1) ]\n",
      "\n",
      "print \"print trigrams aka 3-grams:\",\n",
      "print [ tuple(words[i:i+3]) for i in range(len(words)-2) ]"
     ],
     "language": "python",
     "metadata": {},
     "outputs": [
      {
       "output_type": "stream",
       "stream": "stdout",
       "text": [
        "print unigrams aka 1-grams: ['a', 'good', 'book', 'is', 'all', 'you', 'need', '.']\n",
        "print bigrams aka 2-grams: [('a', 'good'), ('good', 'book'), ('book', 'is'), ('is', 'all'), ('all', 'you'), ('you', 'need'), ('need', '.')]\n",
        "print trigrams aka 3-grams: [('a', 'good', 'book'), ('good', 'book', 'is'), ('book', 'is', 'all'), ('is', 'all', 'you'), ('all', 'you', 'need'), ('you', 'need', '.')]\n"
       ]
      }
     ],
     "prompt_number": 10
    },
    {
     "cell_type": "heading",
     "level": 2,
     "metadata": {},
     "source": [
      "Sorting"
     ]
    },
    {
     "cell_type": "markdown",
     "metadata": {},
     "source": [
      "The function itemgetter from the operator module in Python provides a concise way to sort on different tuple elements in a list of tuples. Note that itemgetter(1) is set to the 2nd component of the tuple, and used as a key to sort the tuples."
     ]
    },
    {
     "cell_type": "code",
     "collapsed": false,
     "input": [
      "word_freq = [ ('the', 1223), ('a', 2413), ('Mr.', 450), ('Elton', 10) ]\n",
      "print word_freq\n",
      "from operator import itemgetter\n",
      "word_freq.sort(key=itemgetter(1), reverse=True)\n",
      "print word_freq"
     ],
     "language": "python",
     "metadata": {},
     "outputs": [
      {
       "output_type": "stream",
       "stream": "stdout",
       "text": [
        "[('the', 1223), ('a', 2413), ('Mr.', 450), ('Elton', 10)]\n",
        "[('a', 2413), ('the', 1223), ('Mr.', 450), ('Elton', 10)]\n"
       ]
      }
     ],
     "prompt_number": 11
    },
    {
     "cell_type": "markdown",
     "metadata": {},
     "source": [
      "You can also use the built-in 'map' function to get the sorted values."
     ]
    },
    {
     "cell_type": "code",
     "collapsed": false,
     "input": [
      "print map(itemgetter(1), word_freq)"
     ],
     "language": "python",
     "metadata": {},
     "outputs": [
      {
       "output_type": "stream",
       "stream": "stdout",
       "text": [
        "[2413, 1223, 450, 10]\n"
       ]
      }
     ],
     "prompt_number": 12
    },
    {
     "cell_type": "code",
     "collapsed": false,
     "input": [
      "print map(itemgetter(0), word_freq)"
     ],
     "language": "python",
     "metadata": {},
     "outputs": [
      {
       "output_type": "stream",
       "stream": "stdout",
       "text": [
        "['a', 'the', 'Mr.', 'Elton']\n"
       ]
      }
     ],
     "prompt_number": 13
    },
    {
     "cell_type": "heading",
     "level": 2,
     "metadata": {},
     "source": [
      "Classes"
     ]
    },
    {
     "cell_type": "markdown",
     "metadata": {},
     "source": [
      "A class works pretty much like what you would expect from other languages such as C++ or Java. Methods of a class are determined by indentation. Each method that is part of the class must take at least one argument. The first argument of each method in a class is a pointer to the object derived from the class definition. By convention this first argument is typically called `self` and it is analogous but not exactly the same as the C++ `this` pointer."
     ]
    },
    {
     "cell_type": "code",
     "collapsed": false,
     "input": [
      "class C:\n",
      "    def foo(self):\n",
      "        return self.a\n",
      "    def bar(self, a):\n",
      "        self.a = a\n",
      "x = C()\n",
      "x.bar('a')\n",
      "print x.foo()"
     ],
     "language": "python",
     "metadata": {},
     "outputs": [
      {
       "output_type": "stream",
       "stream": "stdout",
       "text": [
        "a\n"
       ]
      }
     ],
     "prompt_number": 2
    },
    {
     "cell_type": "heading",
     "level": 2,
     "metadata": {},
     "source": [
      "Constructor and Destructor methods in a class"
     ]
    },
    {
     "cell_type": "markdown",
     "metadata": {},
     "source": [
      "The magic method `__init__` is the constructor method for the class and `__del__` is the destructor method which is called by the garbage collector (Python is similar to Java -- it does not require explicit memory management)."
     ]
    },
    {
     "cell_type": "code",
     "collapsed": false,
     "input": [
      "from itertools import islice\n",
      "\n",
      "class FileObject:\n",
      "    '''Wrapper for file objects to make sure the file gets closed on deletion.'''\n",
      "\n",
      "    def __init__(self, filename):\n",
      "        self.file = open(filename, 'r')\n",
      "\n",
      "    def __del__(self):\n",
      "        self.file.close()\n",
      "        del self.file\n",
      "\n",
      "f = FileObject(dictfile)\n",
      "for line in islice(f.file, 5):\n",
      "    print line,\n",
      "del f # get rid of f -- this is typically not explicitly done in Python. trust the garbage collector to do it for you."
     ],
     "language": "python",
     "metadata": {},
     "outputs": [
      {
       "output_type": "stream",
       "stream": "stdout",
       "text": [
        "A\n",
        "a\n",
        "aa\n",
        "aal\n",
        "aalii\n"
       ]
      }
     ],
     "prompt_number": 26
    },
    {
     "cell_type": "heading",
     "level": 2,
     "metadata": {},
     "source": [
      "Iterators"
     ]
    },
    {
     "cell_type": "markdown",
     "metadata": {},
     "source": [
      "A class is an iterator if it has a `__iter__` and `next` method\n",
      "defined as shown in this example."
     ]
    },
    {
     "cell_type": "code",
     "collapsed": false,
     "input": [
      "# circular queue \n",
      "class cq:\n",
      "  q = [] # needs to be initialized with a list\n",
      "  def __init__(self,q): # the argument q is a list \n",
      "    self.q = q \n",
      "  def __iter__(self): \n",
      "    return self \n",
      "  def next(self): \n",
      "    r = self.q[0]\n",
      "    self.q = self.q[1:] + [r]  # rotate the list\n",
      "    return r\n",
      "\n",
      "x = cq([1,2,3])\n",
      "print x.next()\n",
      "print x.next()\n",
      "print x.next()\n",
      "print x.next()"
     ],
     "language": "python",
     "metadata": {},
     "outputs": [
      {
       "output_type": "stream",
       "stream": "stdout",
       "text": [
        "1\n",
        "2\n",
        "3\n",
        "1\n"
       ]
      }
     ],
     "prompt_number": 14
    },
    {
     "cell_type": "heading",
     "level": 2,
     "metadata": {},
     "source": [
      "Magic!"
     ]
    },
    {
     "cell_type": "markdown",
     "metadata": {},
     "source": [
      "Methods like `__iter__` in the above code for `cq` is called a magic method. Here is a [guide to all Python magic methods](http://www.rafekettler.com/magicmethods.html)"
     ]
    },
    {
     "cell_type": "heading",
     "level": 2,
     "metadata": {},
     "source": [
      "Iteration tools"
     ]
    },
    {
     "cell_type": "markdown",
     "metadata": {},
     "source": [
      "The function islice allows you to take a slice of an iterator."
     ]
    },
    {
     "cell_type": "code",
     "collapsed": false,
     "input": [
      "from itertools import islice\n",
      "x = cq([1,2,3])\n",
      "for i in islice(x, 5):\n",
      "  print i\n",
      "\n",
      "y = cq([1,2,3,4,5])\n",
      "for i in islice(y,3): print i\n",
      "z = [i for i in islice(y,10)]\n",
      "print z"
     ],
     "language": "python",
     "metadata": {},
     "outputs": [
      {
       "output_type": "stream",
       "stream": "stdout",
       "text": [
        "1\n",
        "2\n",
        "3\n",
        "1\n",
        "2\n",
        "1\n",
        "2\n",
        "3\n",
        "[4, 5, 1, 2, 3, 4, 5, 1, 2, 3]\n"
       ]
      }
     ],
     "prompt_number": 15
    },
    {
     "cell_type": "heading",
     "level": 2,
     "metadata": {},
     "source": [
      "Convenient Dictionaries"
     ]
    },
    {
     "cell_type": "markdown",
     "metadata": {},
     "source": [
      "The class defaultdict allows convenient insertion into a dictionary. You do not need to check if a key exists first before updating the value when using defaultdict."
     ]
    },
    {
     "cell_type": "code",
     "collapsed": false,
     "input": [
      "from collections import defaultdict\n",
      "foo = defaultdict(int)\n",
      "bar = defaultdict(list)\n",
      "foo['a'] += 1\n",
      "foo['a'] += 1\n",
      "bar['b'].append(1)\n",
      "bar['b'].append(2)\n",
      "print foo, bar"
     ],
     "language": "python",
     "metadata": {},
     "outputs": [
      {
       "output_type": "stream",
       "stream": "stdout",
       "text": [
        "defaultdict(<type 'int'>, {'a': 2}) defaultdict(<type 'list'>, {'b': [1, 2]})\n"
       ]
      }
     ],
     "prompt_number": 16
    },
    {
     "cell_type": "heading",
     "level": 2,
     "metadata": {},
     "source": [
      "Generators"
     ]
    },
    {
     "cell_type": "markdown",
     "metadata": {},
     "source": [
      "Use generators instead of lists. Generators behave like streams which you can iterate over while lists are statically allocated."
     ]
    },
    {
     "cell_type": "code",
     "collapsed": false,
     "input": [
      "def sum_of_squares(n):\n",
      "   v = 0\n",
      "   for i in range(1,n+1):\n",
      "       v += i*i\n",
      "       yield v\n",
      "for i in sum_of_squares(10): print i"
     ],
     "language": "python",
     "metadata": {},
     "outputs": [
      {
       "output_type": "stream",
       "stream": "stdout",
       "text": [
        "1\n",
        "5\n",
        "14\n",
        "30\n",
        "55\n",
        "91\n",
        "140\n",
        "204\n",
        "285\n",
        "385\n"
       ]
      }
     ],
     "prompt_number": 17
    },
    {
     "cell_type": "heading",
     "level": 2,
     "metadata": {},
     "source": [
      "Generator expressions"
     ]
    },
    {
     "cell_type": "code",
     "collapsed": false,
     "input": [
      "a = [1,2,3,4] # this is a list\n",
      "b = [2*x for x in a] # this is a list comprehension\n",
      "c = (2*x for x in a) # this is a generator, not a list. it creates an iterator object\n",
      "print b\n",
      "print c"
     ],
     "language": "python",
     "metadata": {},
     "outputs": [
      {
       "output_type": "stream",
       "stream": "stdout",
       "text": [
        "[2, 4, 6, 8]\n",
        "<generator object <genexpr> at 0x1062f4370>\n"
       ]
      }
     ],
     "prompt_number": 18
    },
    {
     "cell_type": "code",
     "collapsed": false,
     "input": [
      "n = ((a,b) for a in range(0,2) for b in range(4,6))\n",
      "for i in n:\n",
      "    print i "
     ],
     "language": "python",
     "metadata": {},
     "outputs": [
      {
       "output_type": "stream",
       "stream": "stdout",
       "text": [
        "(0, 4)\n",
        "(0, 5)\n",
        "(1, 4)\n",
        "(1, 5)\n"
       ]
      }
     ],
     "prompt_number": 19
    },
    {
     "cell_type": "heading",
     "level": 2,
     "metadata": {},
     "source": [
      "More on Generators"
     ]
    },
    {
     "cell_type": "markdown",
     "metadata": {},
     "source": [
      "Read [Generator Tricks for Systems Programmers](http://www.dabeaz.com/generators/Generators.pdf) by David Beazley."
     ]
    },
    {
     "cell_type": "heading",
     "level": 2,
     "metadata": {},
     "source": [
      "Unpacking tuples and dictionaries"
     ]
    },
    {
     "cell_type": "code",
     "collapsed": false,
     "input": [
      "def concat(x, y): \n",
      "    return x + y \n",
      "\n",
      "foo = ('A', 'B')\n",
      "bar = {'y': 'B', 'x': 'A'}\n",
      "\n",
      "print concat(*foo)\n",
      "print concat(**bar)"
     ],
     "language": "python",
     "metadata": {},
     "outputs": [
      {
       "output_type": "stream",
       "stream": "stdout",
       "text": [
        "AB\n",
        "AB\n"
       ]
      }
     ],
     "prompt_number": 20
    },
    {
     "cell_type": "heading",
     "level": 2,
     "metadata": {},
     "source": [
      "Exceptions"
     ]
    },
    {
     "cell_type": "code",
     "collapsed": false,
     "input": [
      "def doit(x,y):\n",
      "  if x < 0:\n",
      "    raise ValueError(\"x should be >= 0\")\n",
      "  return y\n",
      "\n",
      "print doit(0,10)"
     ],
     "language": "python",
     "metadata": {},
     "outputs": [
      {
       "output_type": "stream",
       "stream": "stdout",
       "text": [
        "10\n"
       ]
      }
     ],
     "prompt_number": 21
    },
    {
     "cell_type": "code",
     "collapsed": false,
     "input": [
      "print doit(-1,10)"
     ],
     "language": "python",
     "metadata": {},
     "outputs": [
      {
       "ename": "ValueError",
       "evalue": "x should be >= 0",
       "output_type": "pyerr",
       "traceback": [
        "\u001b[0;31m---------------------------------------------------------------------------\u001b[0m\n\u001b[0;31mValueError\u001b[0m                                Traceback (most recent call last)",
        "\u001b[0;32m<ipython-input-22-eac79a4f6074>\u001b[0m in \u001b[0;36m<module>\u001b[0;34m()\u001b[0m\n\u001b[0;32m----> 1\u001b[0;31m \u001b[0;32mprint\u001b[0m \u001b[0mdoit\u001b[0m\u001b[0;34m(\u001b[0m\u001b[0;34m-\u001b[0m\u001b[0;36m1\u001b[0m\u001b[0;34m,\u001b[0m\u001b[0;36m10\u001b[0m\u001b[0;34m)\u001b[0m\u001b[0;34m\u001b[0m\u001b[0m\n\u001b[0m",
        "\u001b[0;32m<ipython-input-21-ee3318dcac88>\u001b[0m in \u001b[0;36mdoit\u001b[0;34m(x, y)\u001b[0m\n\u001b[1;32m      1\u001b[0m \u001b[0;32mdef\u001b[0m \u001b[0mdoit\u001b[0m\u001b[0;34m(\u001b[0m\u001b[0mx\u001b[0m\u001b[0;34m,\u001b[0m\u001b[0my\u001b[0m\u001b[0;34m)\u001b[0m\u001b[0;34m:\u001b[0m\u001b[0;34m\u001b[0m\u001b[0m\n\u001b[1;32m      2\u001b[0m   \u001b[0;32mif\u001b[0m \u001b[0mx\u001b[0m \u001b[0;34m<\u001b[0m \u001b[0;36m0\u001b[0m\u001b[0;34m:\u001b[0m\u001b[0;34m\u001b[0m\u001b[0m\n\u001b[0;32m----> 3\u001b[0;31m     \u001b[0;32mraise\u001b[0m \u001b[0mValueError\u001b[0m\u001b[0;34m(\u001b[0m\u001b[0;34m\"x should be >= 0\"\u001b[0m\u001b[0;34m)\u001b[0m\u001b[0;34m\u001b[0m\u001b[0m\n\u001b[0m\u001b[1;32m      4\u001b[0m   \u001b[0;32mreturn\u001b[0m \u001b[0my\u001b[0m\u001b[0;34m\u001b[0m\u001b[0m\n\u001b[1;32m      5\u001b[0m \u001b[0;34m\u001b[0m\u001b[0m\n",
        "\u001b[0;31mValueError\u001b[0m: x should be >= 0"
       ]
      }
     ],
     "prompt_number": 22
    },
    {
     "cell_type": "heading",
     "level": 2,
     "metadata": {},
     "source": [
      "Advanced Features"
     ]
    },
    {
     "cell_type": "heading",
     "level": 3,
     "metadata": {},
     "source": [
      "Easter Eggs"
     ]
    },
    {
     "cell_type": "code",
     "collapsed": false,
     "input": [
      "from __future__ import braces"
     ],
     "language": "python",
     "metadata": {},
     "outputs": [
      {
       "ename": "SyntaxError",
       "evalue": "not a chance (<ipython-input-23-2aebb3fc8ecf>, line 1)",
       "output_type": "pyerr",
       "traceback": [
        "\u001b[0;36m  File \u001b[0;32m\"<ipython-input-23-2aebb3fc8ecf>\"\u001b[0;36m, line \u001b[0;32m1\u001b[0m\n\u001b[0;31m    from __future__ import braces\u001b[0m\n\u001b[0;31mSyntaxError\u001b[0m\u001b[0;31m:\u001b[0m not a chance\n"
       ]
      }
     ],
     "prompt_number": 23
    },
    {
     "cell_type": "markdown",
     "metadata": {},
     "source": [
      "Save the following to a file and run it using python."
     ]
    },
    {
     "cell_type": "code",
     "collapsed": false,
     "input": [
      "#!/usr/bin/env python\n",
      "# -*- coding: rot13 -*-\n",
      "\n",
      "cevag \"PZCG-413 oevatf grnef gb zl rlrf!\".rapbqr(\"rot13\")"
     ],
     "language": "python",
     "metadata": {},
     "outputs": [
      {
       "ename": "SyntaxError",
       "evalue": "invalid syntax (<ipython-input-24-65c4b1d65abf>, line 4)",
       "output_type": "pyerr",
       "traceback": [
        "\u001b[0;36m  File \u001b[0;32m\"<ipython-input-24-65c4b1d65abf>\"\u001b[0;36m, line \u001b[0;32m4\u001b[0m\n\u001b[0;31m    cevag \"PZCG-413 oevatf grnef gb zl rlrf!\".rapbqr(\"rot13\")\u001b[0m\n\u001b[0m                                            ^\u001b[0m\n\u001b[0;31mSyntaxError\u001b[0m\u001b[0;31m:\u001b[0m invalid syntax\n"
       ]
      }
     ],
     "prompt_number": 24
    },
    {
     "cell_type": "code",
     "collapsed": false,
     "input": [
      "import this\n",
      "print this.s, \"\\n\"\n",
      "print this.s.decode(\"rot13\")"
     ],
     "language": "python",
     "metadata": {},
     "outputs": [
      {
       "output_type": "stream",
       "stream": "stdout",
       "text": [
        "The Zen of Python, by Tim Peters\n",
        "\n",
        "Beautiful is better than ugly.\n",
        "Explicit is better than implicit.\n",
        "Simple is better than complex.\n",
        "Complex is better than complicated.\n",
        "Flat is better than nested.\n",
        "Sparse is better than dense.\n",
        "Readability counts.\n",
        "Special cases aren't special enough to break the rules.\n",
        "Although practicality beats purity.\n",
        "Errors should never pass silently.\n",
        "Unless explicitly silenced.\n",
        "In the face of ambiguity, refuse the temptation to guess.\n",
        "There should be one-- and preferably only one --obvious way to do it.\n",
        "Although that way may not be obvious at first unless you're Dutch.\n",
        "Now is better than never.\n",
        "Although never is often better than *right* now.\n",
        "If the implementation is hard to explain, it's a bad idea.\n",
        "If the implementation is easy to explain, it may be a good idea.\n",
        "Namespaces are one honking great idea -- let's do more of those!\n",
        "Gur Mra bs Clguba, ol Gvz Crgref\n",
        "\n",
        "Ornhgvshy vf orggre guna htyl.\n",
        "Rkcyvpvg vf orggre guna vzcyvpvg.\n",
        "Fvzcyr vf orggre guna pbzcyrk.\n",
        "Pbzcyrk vf orggre guna pbzcyvpngrq.\n",
        "Syng vf orggre guna arfgrq.\n",
        "Fcnefr vf orggre guna qrafr.\n",
        "Ernqnovyvgl pbhagf.\n",
        "Fcrpvny pnfrf nera'g fcrpvny rabhtu gb oernx gur ehyrf.\n",
        "Nygubhtu cenpgvpnyvgl orngf chevgl.\n",
        "Reebef fubhyq arire cnff fvyragyl.\n",
        "Hayrff rkcyvpvgyl fvyraprq.\n",
        "Va gur snpr bs nzovthvgl, ershfr gur grzcgngvba gb thrff.\n",
        "Gurer fubhyq or bar-- naq cersrenoyl bayl bar --boivbhf jnl gb qb vg.\n",
        "Nygubhtu gung jnl znl abg or boivbhf ng svefg hayrff lbh'er Qhgpu.\n",
        "Abj vf orggre guna arire.\n",
        "Nygubhtu arire vf bsgra orggre guna *evtug* abj.\n",
        "Vs gur vzcyrzragngvba vf uneq gb rkcynva, vg'f n onq vqrn.\n",
        "Vs gur vzcyrzragngvba vf rnfl gb rkcynva, vg znl or n tbbq vqrn.\n",
        "Anzrfcnprf ner bar ubaxvat terng vqrn -- yrg'f qb zber bs gubfr! \n",
        "\n",
        "The Zen of Python, by Tim Peters\n",
        "\n",
        "Beautiful is better than ugly.\n",
        "Explicit is better than implicit.\n",
        "Simple is better than complex.\n",
        "Complex is better than complicated.\n",
        "Flat is better than nested.\n",
        "Sparse is better than dense.\n",
        "Readability counts.\n",
        "Special cases aren't special enough to break the rules.\n",
        "Although practicality beats purity.\n",
        "Errors should never pass silently.\n",
        "Unless explicitly silenced.\n",
        "In the face of ambiguity, refuse the temptation to guess.\n",
        "There should be one-- and preferably only one --obvious way to do it.\n",
        "Although that way may not be obvious at first unless you're Dutch.\n",
        "Now is better than never.\n",
        "Although never is often better than *right* now.\n",
        "If the implementation is hard to explain, it's a bad idea.\n",
        "If the implementation is easy to explain, it may be a good idea.\n",
        "Namespaces are one honking great idea -- let's do more of those!\n"
       ]
      }
     ],
     "prompt_number": 25
    },
    {
     "cell_type": "code",
     "collapsed": false,
     "input": [
      "import __phello__"
     ],
     "language": "python",
     "metadata": {},
     "outputs": [
      {
       "output_type": "stream",
       "stream": "stdout",
       "text": [
        "Hello world...\n"
       ]
      }
     ],
     "prompt_number": 26
    },
    {
     "cell_type": "code",
     "collapsed": false,
     "input": [
      "import antigravity"
     ],
     "language": "python",
     "metadata": {},
     "outputs": [],
     "prompt_number": 27
    },
    {
     "cell_type": "heading",
     "level": 3,
     "metadata": {},
     "source": [
      "Scoping and Namespaces in Python"
     ]
    },
    {
     "cell_type": "markdown",
     "metadata": {},
     "source": [
      "This section is strictly for programming language wonks. Scoping in Python can sometimes be tricky."
     ]
    },
    {
     "cell_type": "code",
     "collapsed": false,
     "input": [
      "x = 'a'\n",
      "class wat:\n",
      "    x = 'b'\n",
      "    def __init__(self):\n",
      "        print \"1:\", x\n",
      "        print \"2:\", self.x\n",
      "f = wat()\n",
      "print \"3:\", f.x"
     ],
     "language": "python",
     "metadata": {},
     "outputs": [
      {
       "output_type": "stream",
       "stream": "stdout",
       "text": [
        "1: a\n",
        "2: b\n",
        "3: b\n"
       ]
      }
     ],
     "prompt_number": 15
    },
    {
     "cell_type": "code",
     "collapsed": false,
     "input": [
      "x = 'a'\n",
      "print \"1:\", list(x for x in (1,2)), x\n",
      "print \"2:\", [x for x in (1,2)], x"
     ],
     "language": "python",
     "metadata": {},
     "outputs": [
      {
       "output_type": "stream",
       "stream": "stdout",
       "text": [
        "1: [1, 2] a\n",
        "2: [1, 2] 2\n"
       ]
      }
     ],
     "prompt_number": 17
    },
    {
     "cell_type": "markdown",
     "metadata": {},
     "source": [
      "For more visit http://programmingwats.tumblr.com/"
     ]
    },
    {
     "cell_type": "heading",
     "level": 3,
     "metadata": {},
     "source": [
      "Function Decorators"
     ]
    },
    {
     "cell_type": "markdown",
     "metadata": {},
     "source": [
      "Python has syntactic support for function composition. "
     ]
    },
    {
     "cell_type": "code",
     "collapsed": false,
     "input": [
      "## function composition of foo with bar: foo(bar(args)) using a decorator\n",
      "\n",
      "def foo(f):\n",
      "    def decorator_func(*args, **keyword_args):\n",
      "        f(*args, **keyword_args)\n",
      "        print \"Desecration is the smile on my face\\n\"\n",
      "    return decorator_func\n",
      "\n",
      "@foo\n",
      "def bar(n):\n",
      "    print n\n",
      "bar(\"Never in the wrong time or wrong place\")\n",
      "\n",
      "## function composition directly by calling foo(bar_bar(args))\n",
      "\n",
      "def bar_bar(n):\n",
      "    print n\n",
      "\n",
      "# notice how I give a function as an argument to foo which returns a function\n",
      "# and I then provide an argument to that function returned by foo\n",
      "foo(bar_bar)(\"My face my face, hey\")"
     ],
     "language": "python",
     "metadata": {},
     "outputs": [
      {
       "output_type": "stream",
       "stream": "stdout",
       "text": [
        "Never in the wrong time or wrong place\n",
        "Desecration is the smile on my face\n",
        "\n",
        "My face my face, hey\n",
        "Desecration is the smile on my face\n",
        "\n"
       ]
      }
     ],
     "prompt_number": 34
    }
   ],
   "metadata": {}
  }
 ]
}